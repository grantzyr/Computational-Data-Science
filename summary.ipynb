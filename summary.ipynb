{
 "cells": [
  {
   "cell_type": "code",
   "execution_count": 1,
   "metadata": {},
   "outputs": [],
   "source": [
    "import numpy as np\n",
    "import pandas as pd"
   ]
  },
  {
   "cell_type": "code",
   "execution_count": 2,
   "metadata": {},
   "outputs": [],
   "source": [
    "file1 = pd.read_csv('data-1.csv')\n",
    "file2 = pd.read_csv('data-2.csv')\n",
    "file3 = pd.read_csv('data-3.csv')\n",
    "file4 = pd.read_csv('data-4.csv')\n",
    "file5 = pd.read_csv('data-5.csv')\n",
    "file6 = pd.read_csv('data-6.csv')"
   ]
  },
  {
   "cell_type": "code",
   "execution_count": 3,
   "metadata": {},
   "outputs": [],
   "source": [
    "fileList = [file1, file2, file3, file4, file5, file6]"
   ]
  },
  {
   "cell_type": "code",
   "execution_count": 4,
   "metadata": {
    "scrolled": true
   },
   "outputs": [],
   "source": [
    "def getInfo(file):\n",
    "    tmp = pd.DataFrame()\n",
    "    tmp['mean'] = file.mean()\n",
    "    tmp['standard deviation'] = file.std()\n",
    "    tmp['range'] = (file.min(), file.max())\n",
    "    return tmp"
   ]
  },
  {
   "cell_type": "code",
   "execution_count": 5,
   "metadata": {},
   "outputs": [
    {
     "name": "stdout",
     "output_type": "stream",
     "text": [
      "******************************\n",
      "        mean  standard deviation                                       range\n",
      "x   8.717696           12.155517  (-22.635877790008944, -2.5650878326932127)\n",
      "y  12.522874            6.639964      (35.23705548785129, 27.38415261152477)\n",
      "correlation coefficient\n",
      "          x         y\n",
      "x  1.000000  0.950326\n",
      "y  0.950326  1.000000\n",
      "******************************\n",
      "       mean  standard deviation                                     range\n",
      "x -0.710787           11.481584  (-33.2711130771198, -18.621803760419066)\n",
      "y -0.748987            6.257918    (27.6470003722073, 14.147314992317481)\n",
      "correlation coefficient\n",
      "          x         y\n",
      "x  1.000000  0.955153\n",
      "y  0.955153  1.000000\n",
      "******************************\n",
      "       mean  standard deviation                                     range\n",
      "x  0.968907            2.235558  (-2.4490643296742807, 6.641734490391762)\n",
      "y  8.508535            1.149301    (4.51888491755363, 10.551871022804317)\n",
      "correlation coefficient\n",
      "          x         y\n",
      "x  1.000000  0.981937\n",
      "y  0.981937  1.000000\n",
      "******************************\n",
      "        mean  standard deviation                range\n",
      "x  49.905086           28.508611           (0.0, 0.0)\n",
      "y  18.553837           16.545896  (87.3767, 44.56504)\n",
      "correlation coefficient\n",
      "          x         y\n",
      "x  1.000000 -0.081193\n",
      "y -0.081193  1.000000\n",
      "******************************\n",
      "        mean  standard deviation                                     range\n",
      "x  49.909994           28.500001  (4.337892453674525, 0.05549750758115175)\n",
      "y  18.555525           16.540796     (91.0528633396976, 49.93419703633311)\n",
      "correlation coefficient\n",
      "          x         y\n",
      "x  1.000000 -0.088236\n",
      "y -0.088236  1.000000\n",
      "******************************\n",
      "       mean  standard deviation                                    range\n",
      "x  7.216155           11.921599  (-24.33382075234097, -22.9563569970746)\n",
      "y  7.602215           11.764382     (35.402138910929, 36.07987403078143)\n",
      "correlation coefficient\n",
      "          x         y\n",
      "x  1.000000  0.935069\n",
      "y  0.935069  1.000000\n"
     ]
    }
   ],
   "source": [
    "for i in fileList:\n",
    "    print(\"******************************\")\n",
    "    print(getInfo(i))\n",
    "    print(\"correlation coefficient\")\n",
    "    print(i.corr())"
   ]
  },
  {
   "cell_type": "markdown",
   "metadata": {},
   "source": []
  }
 ],
 "metadata": {
  "kernelspec": {
   "display_name": "Python 3",
   "language": "python",
   "name": "python3"
  },
  "language_info": {
   "codemirror_mode": {
    "name": "ipython",
    "version": 3
   },
   "file_extension": ".py",
   "mimetype": "text/x-python",
   "name": "python",
   "nbconvert_exporter": "python",
   "pygments_lexer": "ipython3",
   "version": "3.7.6"
  }
 },
 "nbformat": 4,
 "nbformat_minor": 4
}
